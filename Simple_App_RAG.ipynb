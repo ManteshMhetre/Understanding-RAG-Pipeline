{
 "cells": [
  {
   "cell_type": "markdown",
   "metadata": {},
   "source": [
    "#### Simple Gen AI APP Using Langchain"
   ]
  },
  {
   "cell_type": "code",
   "execution_count": 1,
   "metadata": {},
   "outputs": [],
   "source": [
    "import os\n",
    "from dotenv import load_dotenv\n",
    "load_dotenv()\n",
    "\n",
    "os.environ['GEMINI_API_KEY']=os.getenv(\"GEMINI_API_KEY\")\n",
    "## Langsmith Tracking\n",
    "os.environ[\"LANGCHAIN_API_KEY\"]=os.getenv(\"LANGCHAIN_API_KEY\")\n",
    "os.environ[\"LANGCHAIN_TRACING_V2\"]=\"true\"\n",
    "os.environ[\"LANGCHAIN_PROJECT\"]=os.getenv(\"LANGCHAIN_PROJECT\")"
   ]
  },
  {
   "cell_type": "code",
   "execution_count": 2,
   "metadata": {},
   "outputs": [
    {
     "name": "stderr",
     "output_type": "stream",
     "text": [
      "USER_AGENT environment variable not set, consider setting it to identify your requests.\n"
     ]
    }
   ],
   "source": [
    "## Data Ingestion--From the website we need to scrape the data\n",
    "from langchain_community.document_loaders import WebBaseLoader"
   ]
  },
  {
   "cell_type": "code",
   "execution_count": 25,
   "metadata": {},
   "outputs": [
    {
     "data": {
      "text/plain": [
       "<langchain_community.document_loaders.web_base.WebBaseLoader at 0x23c003aae90>"
      ]
     },
     "execution_count": 25,
     "metadata": {},
     "output_type": "execute_result"
    }
   ],
   "source": [
    "loader=WebBaseLoader(\"https://en.wikipedia.org/wiki/Supervised_learning\")\n",
    "loader"
   ]
  },
  {
   "cell_type": "code",
   "execution_count": 26,
   "metadata": {},
   "outputs": [
    {
     "data": {
      "text/plain": [
       "[Document(metadata={'source': 'https://en.wikipedia.org/wiki/Supervised_learning', 'title': 'Supervised learning - Wikipedia', 'language': 'en'}, page_content='\\n\\n\\n\\nSupervised learning - Wikipedia\\n\\n\\n\\n\\n\\n\\n\\n\\n\\n\\n\\n\\n\\n\\n\\n\\n\\n\\n\\n\\n\\n\\n\\n\\n\\n\\n\\n\\n\\n\\nJump to content\\n\\n\\n\\n\\n\\n\\n\\nMain menu\\n\\n\\n\\n\\n\\nMain menu\\nmove to sidebar\\nhide\\n\\n\\n\\n\\t\\tNavigation\\n\\t\\n\\n\\nMain pageContentsCurrent eventsRandom articleAbout WikipediaContact us\\n\\n\\n\\n\\n\\n\\t\\tContribute\\n\\t\\n\\n\\nHelpLearn to editCommunity portalRecent changesUpload fileSpecial pages\\n\\n\\n\\n\\n\\n\\n\\n\\n\\n\\n\\n\\n\\n\\n\\n\\n\\n\\n\\nSearch\\n\\n\\n\\n\\n\\n\\n\\n\\n\\n\\n\\nSearch\\n\\n\\n\\n\\n\\n\\n\\n\\n\\n\\n\\n\\n\\n\\n\\n\\n\\n\\n\\n\\n\\n\\nAppearance\\n\\n\\n\\n\\n\\n\\n\\n\\n\\n\\n\\n\\n\\n\\n\\n\\nDonate\\n\\nCreate account\\n\\nLog in\\n\\n\\n\\n\\n\\n\\n\\n\\nPersonal tools\\n\\n\\n\\n\\n\\nDonate Create account Log in\\n\\n\\n\\n\\n\\n\\t\\tPages for logged out editors learn more\\n\\n\\n\\nContributionsTalk\\n\\n\\n\\n\\n\\n\\n\\n\\n\\n\\n\\n\\n\\n\\n\\n\\n\\n\\n\\n\\n\\n\\n\\n\\n\\n\\n\\n\\nContents\\nmove to sidebar\\nhide\\n\\n\\n\\n\\n(Top)\\n\\n\\n\\n\\n\\n1\\nSteps to follow\\n\\n\\n\\n\\n\\n\\n\\n\\n2\\nAlgorithm choice\\n\\n\\n\\n\\nToggle Algorithm choice subsection\\n\\n\\n\\n\\n\\n2.1\\nBias–variance tradeoff\\n\\n\\n\\n\\n\\n\\n\\n\\n2.2\\nFunction complexity and amount of training data\\n\\n\\n\\n\\n\\n\\n\\n\\n2.3\\nDimensionality of the input space\\n\\n\\n\\n\\n\\n\\n\\n\\n2.4\\nNoise in the output values\\n\\n\\n\\n\\n\\n\\n\\n\\n2.5\\nOther factors to consider\\n\\n\\n\\n\\n\\n\\n\\n\\n2.6\\nAlgorithms\\n\\n\\n\\n\\n\\n\\n\\n\\n\\n\\n3\\nHow supervised learning algorithms work\\n\\n\\n\\n\\nToggle How supervised learning algorithms work subsection\\n\\n\\n\\n\\n\\n3.1\\nEmpirical risk minimization\\n\\n\\n\\n\\n\\n\\n\\n\\n3.2\\nStructural risk minimization\\n\\n\\n\\n\\n\\n\\n\\n\\n\\n\\n4\\nGenerative training\\n\\n\\n\\n\\n\\n\\n\\n\\n5\\nGeneralizations\\n\\n\\n\\n\\n\\n\\n\\n\\n6\\nApproaches and algorithms\\n\\n\\n\\n\\n\\n\\n\\n\\n7\\nApplications\\n\\n\\n\\n\\n\\n\\n\\n\\n8\\nGeneral issues\\n\\n\\n\\n\\n\\n\\n\\n\\n9\\nSee also\\n\\n\\n\\n\\n\\n\\n\\n\\n10\\nReferences\\n\\n\\n\\n\\n\\n\\n\\n\\n11\\nExternal links\\n\\n\\n\\n\\n\\n\\n\\n\\n\\n\\n\\n\\n\\n\\n\\n\\n\\n\\nToggle the table of contents\\n\\n\\n\\n\\n\\n\\n\\nSupervised learning\\n\\n\\n\\n38 languages\\n\\n\\n\\n\\nالعربيةتۆرکجهবাংলা閩南語 / Bân-lâm-gíBosanskiCatalàČeštinaDanskDeutschEestiΕλληνικάEspañolفارسیFrançais한국어ՀայերենBahasa IndonesiaItalianoעבריתಕನ್ನಡमराठीNederlands日本語ଓଡ଼ିଆPolskiPortuguêsRuna SimiРусскийSimple EnglishکوردیСрпски / srpskiSuomiไทยTürkçeУкраїнськаTiếng Việt粵語中文\\n\\nEdit links\\n\\n\\n\\n\\n\\n\\n\\n\\n\\n\\n\\nArticleTalk\\n\\n\\n\\n\\n\\nEnglish\\n\\n\\n\\n\\n\\n\\n\\n\\n\\n\\n\\n\\n\\n\\n\\n\\n\\nReadEditView history\\n\\n\\n\\n\\n\\n\\n\\nTools\\n\\n\\n\\n\\n\\nTools\\nmove to sidebar\\nhide\\n\\n\\n\\n\\t\\tActions\\n\\t\\n\\n\\nReadEditView history\\n\\n\\n\\n\\n\\n\\t\\tGeneral\\n\\t\\n\\n\\nWhat links hereRelated changesUpload filePermanent linkPage informationCite this pageGet shortened URLDownload QR code\\n\\n\\n\\n\\n\\n\\t\\tPrint/export\\n\\t\\n\\n\\nDownload as PDFPrintable version\\n\\n\\n\\n\\n\\n\\t\\tIn other projects\\n\\t\\n\\n\\nWikidata item\\n\\n\\n\\n\\n\\n\\n\\n\\n\\n\\n\\n\\n\\n\\n\\n\\n\\n\\n\\n\\n\\nAppearance\\nmove to sidebar\\nhide\\n\\n\\n\\n\\n\\n\\n\\n\\n\\n\\nFrom Wikipedia, the free encyclopedia\\n\\n\\nMachine learning paradigm\\nIn supervised learning, the training data is labeled with the expected answers, while in unsupervised learning, the model identifies patterns or structures in unlabeled data.\\nIn machine learning, supervised learning (SL) is a type of machine learning paradigm where an algorithm learns to map input data to a specific output based on example input-output pairs. This process involves training a statistical model using labeled data, meaning each piece of input data is provided with the correct output. For instance, if you want a model to identify cats in images, supervised learning would involve feeding it many images of cats (inputs) that are explicitly labeled \"cat\" (outputs).\\nThe goal of supervised learning is for the trained model to accurately predict the output for new, unseen data.[1] This requires the algorithm to effectively generalize from the training examples, a quality measured by its generalization error. Supervised learning is commonly used for tasks like classification (predicting a category, e.g., spam or not spam) and regression (predicting a continuous value, e.g., house prices).\\n\\n\\nSteps to follow[edit]\\nTo solve a given problem of supervised learning, the following steps must be performed:\\n\\nDetermine the type of training samples. Before doing anything else, the user should decide what kind of data is to be used as a training set. In the case of handwriting analysis, for example, this might be a single handwritten character, an entire handwritten word, an entire sentence of handwriting, or a full paragraph of handwriting.\\nGather a training set. The training set needs to be representative of the real-world use of the function. Thus, a set of input objects is gathered together with corresponding outputs, either from human experts or from measurements.\\nDetermine the input feature representation of the learned function. The accuracy of the learned function depends strongly on how the input object is represented. Typically, the input object is transformed into a feature vector, which contains a number of features that are descriptive of the object. The number of features should not be too large, because of the curse of dimensionality; but should contain enough information to accurately predict the output.\\nDetermine the structure of the learned function and corresponding learning algorithm. For example, one may choose to use support-vector machines or decision trees.\\nComplete the design. Run the learning algorithm on the gathered training set. Some supervised learning algorithms require the user to determine certain control parameters. These parameters may be adjusted by optimizing performance on a subset (called a validation set) of the training set, or via cross-validation.\\nEvaluate the accuracy of the learned function. After parameter adjustment and learning, the performance of the resulting function should be measured on a test set that is separate from the training set.\\nAlgorithm choice[edit]\\nA wide range of supervised learning algorithms are available, each with its strengths and weaknesses. There is no single learning algorithm that works best on all supervised learning problems (see the No free lunch theorem).\\nThere are four major issues to consider in supervised learning:\\n\\nBias–variance tradeoff[edit]\\nMain article: Bias–variance tradeoff\\nA first issue is the tradeoff between bias and variance.[2] Imagine that we have available several different, but equally good, training data sets. A learning algorithm is biased for a particular input \\n\\n\\n\\nx\\n\\n\\n{\\\\displaystyle x}\\n\\n if, when trained on each of these data sets, it is systematically incorrect when predicting the correct output for \\n\\n\\n\\nx\\n\\n\\n{\\\\displaystyle x}\\n\\n. A learning algorithm has high variance for a particular input \\n\\n\\n\\nx\\n\\n\\n{\\\\displaystyle x}\\n\\n if it predicts different output values when trained on different training sets. The prediction error of a learned classifier is related to the sum of the bias and the variance of the learning algorithm.[3] Generally, there is a tradeoff between bias and variance. A learning algorithm with low bias must be \"flexible\" so that it can fit the data well. But if the learning algorithm is too flexible, it will fit each training data set differently, and hence have high variance. A key aspect of many supervised learning methods is that they are able to adjust this tradeoff between bias and variance (either automatically or by providing a bias/variance parameter that the user can adjust).\\n\\nFunction complexity and amount of training data[edit]\\nThe second issue is of the amount of training data available relative to the complexity of the \"true\" function (classifier or regression function). If the true function is simple, then an \"inflexible\" learning algorithm with high bias and low variance will be able to learn it from a small amount of data. But if the true function is highly complex (e.g., because it involves complex interactions among many different input features and behaves differently in different parts of the input space), then the function will only be able to learn with a large amount of training data paired with a \"flexible\" learning algorithm with low bias and high variance.\\n\\nDimensionality of the input space[edit]\\nA third issue is the dimensionality of the input space. If the input feature vectors have large dimensions, learning the function can be difficult even if the true function only depends on a small number of those features. This is because the many \"extra\" dimensions can confuse the learning algorithm and cause it to have high variance. Hence, input data of large dimensions typically requires tuning the classifier to have low variance and high bias. In practice, if the engineer can manually remove irrelevant features from the input data, it will likely improve the accuracy of the learned function. In addition, there are many algorithms for feature selection that seek to identify the relevant features and discard the irrelevant ones. This is an instance of the more general strategy of dimensionality reduction, which seeks to map the input data into a lower-dimensional space prior to running the supervised learning algorithm.\\n\\nNoise in the output values[edit]\\nA fourth issue is the degree of noise in the desired output values (the supervisory target variables). If the desired output values are often incorrect (because of human error or sensor errors), then the learning algorithm should not attempt to find a function that exactly matches the training examples. Attempting to fit the data too carefully leads to overfitting. You can overfit even when there are no measurement errors (stochastic noise) if the function you are trying to learn is too complex for your learning model. In such a situation, the part of the target function that cannot be modeled \"corrupts\" your training data – this phenomenon has been called deterministic noise. When either type of noise is present, it is better to go with a higher bias, lower variance estimator.\\nIn practice, there are several approaches to alleviate noise in the output values such as early stopping to prevent overfitting as well as detecting and removing the noisy training examples prior to training the supervised learning algorithm. There are several algorithms that identify noisy training examples and removing the suspected noisy training examples prior to training has decreased generalization error with statistical significance.[4][5]\\n\\nOther factors to consider[edit]\\nOther factors to consider when choosing and applying a learning algorithm include the following:\\n\\nHeterogeneity of the data. If the feature vectors include features of many different kinds (discrete, discrete ordered, counts, continuous values), some algorithms are easier to apply than others. Many algorithms, including support-vector machines, linear regression, logistic regression, neural networks, and nearest neighbor methods, require that the input features be numerical and scaled to similar ranges (e.g., to the [-1,1] interval). Methods that employ a distance function, such as nearest neighbor methods and support-vector machines with Gaussian kernels, are particularly sensitive to this. An advantage of decision trees is that they easily handle heterogeneous data.\\nRedundancy in the data. If the input features contain redundant information (e.g., highly correlated features), some learning algorithms (e.g., linear regression, logistic regression, and  distance-based methods) will perform poorly because of numerical instabilities. These problems can often be solved by imposing some form of regularization.\\nPresence of interactions and non-linearities. If each of the features makes an independent contribution to the output, then algorithms based on linear functions (e.g., linear regression, logistic regression, support-vector machines, naive Bayes) and distance functions (e.g., nearest neighbor methods, support-vector machines with Gaussian kernels) generally perform well. However, if there are complex interactions among features, then algorithms such as decision trees and neural networks work better, because they are specifically designed to discover these interactions. Linear methods can also be applied, but the engineer must manually specify the interactions when using them.\\nWhen considering a new application, the engineer can compare multiple learning algorithms and experimentally determine which one works best on the problem at hand (see  cross-validation). Tuning the performance of a learning algorithm can be very time-consuming. Given fixed resources, it is often better to spend more time collecting additional training data and more informative features than it is to spend extra time tuning the learning algorithms.\\n\\nAlgorithms[edit]\\nThe most widely used learning algorithms are: \\n\\nSupport-vector machines\\nLinear regression\\nLogistic regression\\nNaive Bayes\\nLinear discriminant analysis\\nDecision trees\\nk-nearest neighbors algorithm\\nNeural networks (e.g., Multilayer perceptron)\\nSimilarity learning\\nHow supervised learning algorithms work[edit]\\nGiven a set of \\n\\n\\n\\nN\\n\\n\\n{\\\\displaystyle N}\\n\\n training examples of the form \\n\\n\\n\\n{\\n(\\n\\nx\\n\\n1\\n\\n\\n,\\n\\ny\\n\\n1\\n\\n\\n)\\n,\\n.\\n.\\n.\\n,\\n(\\n\\nx\\n\\nN\\n\\n\\n,\\n\\n\\ny\\n\\nN\\n\\n\\n)\\n}\\n\\n\\n{\\\\displaystyle \\\\{(x_{1},y_{1}),...,(x_{N},\\\\;y_{N})\\\\}}\\n\\n such that \\n\\n\\n\\n\\nx\\n\\ni\\n\\n\\n\\n\\n{\\\\displaystyle x_{i}}\\n\\n is the feature vector of the \\n\\n\\n\\ni\\n\\n\\n{\\\\displaystyle i}\\n\\n-th example and \\n\\n\\n\\n\\ny\\n\\ni\\n\\n\\n\\n\\n{\\\\displaystyle y_{i}}\\n\\n is its label (i.e., class), a learning algorithm seeks a function \\n\\n\\n\\ng\\n:\\nX\\n→\\nY\\n\\n\\n{\\\\displaystyle g:X\\\\to Y}\\n\\n, where \\n\\n\\n\\nX\\n\\n\\n{\\\\displaystyle X}\\n\\n is the input space and \\n\\n\\n\\nY\\n\\n\\n{\\\\displaystyle Y}\\n\\n is the output space. The function \\n\\n\\n\\ng\\n\\n\\n{\\\\displaystyle g}\\n\\n is an element of some space of possible functions \\n\\n\\n\\nG\\n\\n\\n{\\\\displaystyle G}\\n\\n, usually called the hypothesis space. It is sometimes convenient to represent \\n\\n\\n\\ng\\n\\n\\n{\\\\displaystyle g}\\n\\n using a scoring function \\n\\n\\n\\nf\\n:\\nX\\n×\\nY\\n→\\n\\nR\\n\\n\\n\\n{\\\\displaystyle f:X\\\\times Y\\\\to \\\\mathbb {R} }\\n\\n such that \\n\\n\\n\\ng\\n\\n\\n{\\\\displaystyle g}\\n\\n is defined as returning the \\n\\n\\n\\ny\\n\\n\\n{\\\\displaystyle y}\\n\\n value that gives the highest score: \\n\\n\\n\\ng\\n(\\nx\\n)\\n=\\n\\n\\n\\narg\\n\\u2061\\nmax\\n\\ny\\n\\n\\n\\nf\\n(\\nx\\n,\\ny\\n)\\n\\n\\n{\\\\displaystyle g(x)={\\\\underset {y}{\\\\arg \\\\max }}\\\\;f(x,y)}\\n\\n. Let \\n\\n\\n\\nF\\n\\n\\n{\\\\displaystyle F}\\n\\n denote the space of scoring functions.\\nAlthough \\n\\n\\n\\nG\\n\\n\\n{\\\\displaystyle G}\\n\\n and \\n\\n\\n\\nF\\n\\n\\n{\\\\displaystyle F}\\n\\n can be any space of functions, many learning algorithms are probabilistic models where \\n\\n\\n\\ng\\n\\n\\n{\\\\displaystyle g}\\n\\n takes the form of a conditional probability model \\n\\n\\n\\ng\\n(\\nx\\n)\\n=\\n\\n\\n\\narg\\n\\u2061\\nmax\\n\\ny\\n\\n\\n\\nP\\n(\\ny\\n\\n|\\n\\nx\\n)\\n\\n\\n{\\\\displaystyle g(x)={\\\\underset {y}{\\\\arg \\\\max }}\\\\;P(y|x)}\\n\\n, or \\n\\n\\n\\nf\\n\\n\\n{\\\\displaystyle f}\\n\\n takes the form of a joint probability model \\n\\n\\n\\nf\\n(\\nx\\n,\\ny\\n)\\n=\\nP\\n(\\nx\\n,\\ny\\n)\\n\\n\\n{\\\\displaystyle f(x,y)=P(x,y)}\\n\\n. For example, naive Bayes and linear discriminant analysis are joint probability models, whereas logistic regression is a conditional probability model.\\nThere are two basic approaches to choosing \\n\\n\\n\\nf\\n\\n\\n{\\\\displaystyle f}\\n\\n or \\n\\n\\n\\ng\\n\\n\\n{\\\\displaystyle g}\\n\\n: empirical risk minimization and structural risk minimization.[6] Empirical risk minimization seeks the function that best fits the training data. Structural risk minimization includes a penalty function that controls the bias/variance tradeoff.\\nIn both cases, it is assumed that the training set consists of a sample of independent and identically distributed pairs, \\n\\n\\n\\n(\\n\\nx\\n\\ni\\n\\n\\n,\\n\\n\\ny\\n\\ni\\n\\n\\n)\\n\\n\\n{\\\\displaystyle (x_{i},\\\\;y_{i})}\\n\\n. In order to measure how well a function fits the training data, a loss function \\n\\n\\n\\nL\\n:\\nY\\n×\\nY\\n→\\n\\n\\nR\\n\\n\\n≥\\n0\\n\\n\\n\\n\\n{\\\\displaystyle L:Y\\\\times Y\\\\to \\\\mathbb {R} ^{\\\\geq 0}}\\n\\n is defined. For training example \\n\\n\\n\\n(\\n\\nx\\n\\ni\\n\\n\\n,\\n\\n\\ny\\n\\ni\\n\\n\\n)\\n\\n\\n{\\\\displaystyle (x_{i},\\\\;y_{i})}\\n\\n, the loss of predicting the value \\n\\n\\n\\n\\n\\n\\ny\\n^\\n\\n\\n\\n\\n\\n{\\\\displaystyle {\\\\hat {y}}}\\n\\n is \\n\\n\\n\\nL\\n(\\n\\ny\\n\\ni\\n\\n\\n,\\n\\n\\n\\ny\\n^\\n\\n\\n\\n)\\n\\n\\n{\\\\displaystyle L(y_{i},{\\\\hat {y}})}\\n\\n.\\nThe risk \\n\\n\\n\\nR\\n(\\ng\\n)\\n\\n\\n{\\\\displaystyle R(g)}\\n\\n of function \\n\\n\\n\\ng\\n\\n\\n{\\\\displaystyle g}\\n\\n is defined as the expected loss of \\n\\n\\n\\ng\\n\\n\\n{\\\\displaystyle g}\\n\\n. This can be estimated from the training data as\\n\\n\\n\\n\\n\\n\\nR\\n\\ne\\nm\\np\\n\\n\\n(\\ng\\n)\\n=\\n\\n\\n1\\nN\\n\\n\\n\\n∑\\n\\ni\\n\\n\\nL\\n(\\n\\ny\\n\\ni\\n\\n\\n,\\ng\\n(\\n\\nx\\n\\ni\\n\\n\\n)\\n)\\n\\n\\n{\\\\displaystyle R_{emp}(g)={\\\\frac {1}{N}}\\\\sum _{i}L(y_{i},g(x_{i}))}\\n\\n.\\nEmpirical risk minimization[edit]\\nMain article: Empirical risk minimization\\nIn empirical risk minimization, the supervised learning algorithm seeks the function \\n\\n\\n\\ng\\n\\n\\n{\\\\displaystyle g}\\n\\n that minimizes \\n\\n\\n\\nR\\n(\\ng\\n)\\n\\n\\n{\\\\displaystyle R(g)}\\n\\n. Hence, a supervised learning algorithm can be constructed by applying an optimization algorithm to find \\n\\n\\n\\ng\\n\\n\\n{\\\\displaystyle g}\\n\\n.\\nWhen \\n\\n\\n\\ng\\n\\n\\n{\\\\displaystyle g}\\n\\n is a conditional probability distribution \\n\\n\\n\\nP\\n(\\ny\\n\\n|\\n\\nx\\n)\\n\\n\\n{\\\\displaystyle P(y|x)}\\n\\n and the loss function is the negative log likelihood: \\n\\n\\n\\nL\\n(\\ny\\n,\\n\\n\\n\\ny\\n^\\n\\n\\n\\n)\\n=\\n−\\nlog\\n\\u2061\\nP\\n(\\ny\\n\\n|\\n\\nx\\n)\\n\\n\\n{\\\\displaystyle L(y,{\\\\hat {y}})=-\\\\log P(y|x)}\\n\\n, then empirical risk minimization is equivalent to maximum likelihood estimation.\\nWhen \\n\\n\\n\\nG\\n\\n\\n{\\\\displaystyle G}\\n\\n contains many candidate functions or the training set is not sufficiently large, empirical risk minimization leads to high variance and poor generalization. The learning algorithm is able to memorize the training examples without generalizing well (overfitting).\\n\\nStructural risk minimization[edit]\\nStructural risk minimization seeks to prevent overfitting by incorporating a regularization penalty into the optimization. The regularization penalty can be viewed as implementing a form of Occam\\'s razor that prefers simpler functions over more complex ones.\\nA wide variety of penalties have been employed that correspond to different definitions of complexity. For example, consider the case where the function \\n\\n\\n\\ng\\n\\n\\n{\\\\displaystyle g}\\n\\n is a linear function of the form\\n\\n\\n\\n\\n\\ng\\n(\\nx\\n)\\n=\\n\\n∑\\n\\nj\\n=\\n1\\n\\n\\nd\\n\\n\\n\\nβ\\n\\nj\\n\\n\\n\\nx\\n\\nj\\n\\n\\n\\n\\n{\\\\displaystyle g(x)=\\\\sum _{j=1}^{d}\\\\beta _{j}x_{j}}\\n\\n.\\nA popular regularization penalty is \\n\\n\\n\\n\\n∑\\n\\nj\\n\\n\\n\\nβ\\n\\nj\\n\\n\\n2\\n\\n\\n\\n\\n{\\\\displaystyle \\\\sum _{j}\\\\beta _{j}^{2}}\\n\\n, which is the squared Euclidean norm of the weights, also known as the \\n\\n\\n\\n\\nL\\n\\n2\\n\\n\\n\\n\\n{\\\\displaystyle L_{2}}\\n\\n norm. Other norms include the \\n\\n\\n\\n\\nL\\n\\n1\\n\\n\\n\\n\\n{\\\\displaystyle L_{1}}\\n\\n norm, \\n\\n\\n\\n\\n∑\\n\\nj\\n\\n\\n\\n|\\n\\n\\nβ\\n\\nj\\n\\n\\n\\n|\\n\\n\\n\\n{\\\\displaystyle \\\\sum _{j}|\\\\beta _{j}|}\\n\\n, and the \\n\\n\\n\\n\\nL\\n\\n0\\n\\n\\n\\n\\n{\\\\displaystyle L_{0}}\\n\\n \"norm\", which is the number of non-zero \\n\\n\\n\\n\\nβ\\n\\nj\\n\\n\\n\\n\\n{\\\\displaystyle \\\\beta _{j}}\\n\\ns. The penalty will be denoted by \\n\\n\\n\\nC\\n(\\ng\\n)\\n\\n\\n{\\\\displaystyle C(g)}\\n\\n.\\nThe supervised learning optimization problem is to find the function \\n\\n\\n\\ng\\n\\n\\n{\\\\displaystyle g}\\n\\n that minimizes\\n\\n\\n\\n\\n\\nJ\\n(\\ng\\n)\\n=\\n\\nR\\n\\ne\\nm\\np\\n\\n\\n(\\ng\\n)\\n+\\nλ\\nC\\n(\\ng\\n)\\n.\\n\\n\\n{\\\\displaystyle J(g)=R_{emp}(g)+\\\\lambda C(g).}\\n\\n\\nThe parameter \\n\\n\\n\\nλ\\n\\n\\n{\\\\displaystyle \\\\lambda }\\n\\n controls the bias-variance tradeoff. When \\n\\n\\n\\nλ\\n=\\n0\\n\\n\\n{\\\\displaystyle \\\\lambda =0}\\n\\n, this gives empirical risk minimization with low bias and high variance. When \\n\\n\\n\\nλ\\n\\n\\n{\\\\displaystyle \\\\lambda }\\n\\n is large, the learning algorithm will have high bias and low variance. The value of \\n\\n\\n\\nλ\\n\\n\\n{\\\\displaystyle \\\\lambda }\\n\\n can be chosen empirically via  cross-validation.\\nThe complexity penalty has a Bayesian interpretation as the negative log prior probability of \\n\\n\\n\\ng\\n\\n\\n{\\\\displaystyle g}\\n\\n, \\n\\n\\n\\n−\\nlog\\n\\u2061\\nP\\n(\\ng\\n)\\n\\n\\n{\\\\displaystyle -\\\\log P(g)}\\n\\n, in which case \\n\\n\\n\\nJ\\n(\\ng\\n)\\n\\n\\n{\\\\displaystyle J(g)}\\n\\n is the posterior probability of \\n\\n\\n\\ng\\n\\n\\n{\\\\displaystyle g}\\n\\n.\\n\\nGenerative training[edit]\\nThe training methods described above are discriminative training methods, because they seek to find a function \\n\\n\\n\\ng\\n\\n\\n{\\\\displaystyle g}\\n\\n that discriminates well between the different output values (see discriminative model). For the special case where \\n\\n\\n\\nf\\n(\\nx\\n,\\ny\\n)\\n=\\nP\\n(\\nx\\n,\\ny\\n)\\n\\n\\n{\\\\displaystyle f(x,y)=P(x,y)}\\n\\n is a joint probability distribution and the loss function is the negative log likelihood \\n\\n\\n\\n−\\n\\n∑\\n\\ni\\n\\n\\nlog\\n\\u2061\\nP\\n(\\n\\nx\\n\\ni\\n\\n\\n,\\n\\ny\\n\\ni\\n\\n\\n)\\n,\\n\\n\\n{\\\\displaystyle -\\\\sum _{i}\\\\log P(x_{i},y_{i}),}\\n\\n a risk minimization algorithm is said to perform generative training, because \\n\\n\\n\\nf\\n\\n\\n{\\\\displaystyle f}\\n\\n can be regarded as a generative model that explains how the data were generated. Generative training algorithms are often simpler and more computationally efficient than discriminative training algorithms. In some cases, the solution can be computed in closed form as in naive Bayes and linear discriminant analysis.\\n\\nGeneralizations[edit]\\nTendency for a task to employ supervised vs. unsupervised methods. Task names straddling circle boundaries is intentional. It shows that the classical division of imaginative tasks (left) employing unsupervised methods is blurred in today\\'s learning schemes.There are several ways in which the standard supervised learning problem can be generalized:\\nSemi-supervised learning or weak supervision: the desired output values are provided only for a subset of the training data. The remaining data is unlabeled or imprecisely labeled.\\nActive learning: Instead of assuming that all of the training examples are given at the start, active learning algorithms interactively collect new examples, typically by making queries to a human user. Often, the queries are based on unlabeled data, which is a scenario that combines semi-supervised learning with active learning.\\nStructured prediction: When the desired output value is a complex object, such as a parse tree or a labeled graph, then standard methods must be extended.\\nLearning to rank: When the input is a set of objects and the desired output is a ranking of those objects, then again the standard methods must be extended.\\nApproaches and algorithms[edit]\\nAnalytical learning\\nArtificial neural network\\nBackpropagation\\nBoosting (meta-algorithm)\\nBayesian statistics\\nCase-based reasoning\\nDecision tree learning\\nInductive logic programming\\nGaussian process regression\\nGenetic programming\\nGroup method of data handling\\nKernel estimators\\nLearning automata\\nLearning classifier systems\\nLearning vector quantization\\nMinimum message length (decision trees, decision graphs, etc.)\\nMultilinear subspace learning\\nNaive Bayes classifier\\nMaximum entropy classifier\\nConditional random field\\nNearest neighbor algorithm\\nProbably approximately correct learning (PAC) learning\\nRipple down rules, a knowledge acquisition methodology\\nSymbolic machine learning algorithms\\nSubsymbolic machine learning algorithms\\nSupport vector machines\\nMinimum complexity machines (MCM)\\nRandom forests\\nEnsembles of classifiers\\nOrdinal classification\\nData pre-processing\\nHandling imbalanced datasets\\nStatistical relational learning\\nProaftn, a multicriteria classification algorithm\\nApplications[edit]\\nBioinformatics\\nCheminformatics\\nQuantitative structure–activity relationship\\nDatabase marketing\\nHandwriting recognition\\nInformation retrieval\\nLearning to rank\\nInformation extraction\\nObject recognition in computer vision\\nOptical character recognition\\nSpam detection\\nPattern recognition\\nSpeech recognition\\nSupervised learning is a special case of downward causation in biological systems\\nLandform classification using satellite imagery[7]\\nSpend classification in procurement processes[8]\\nGeneral issues[edit]\\nComputational learning theory\\nInductive bias\\nOverfitting\\n(Uncalibrated) class membership probabilities\\nVersion spaces\\nSee also[edit]\\nList of datasets for machine-learning research\\nUnsupervised learning\\nReferences[edit]\\n\\n\\n^ Mehryar Mohri, Afshin Rostamizadeh, Ameet Talwalkar (2012) Foundations of Machine Learning, The MIT Press ISBN\\xa09780262018258.\\n\\n^ S. Geman, E. Bienenstock, and R. Doursat (1992). Neural networks and the bias/variance dilemma. Neural Computation 4, 1–58.\\n\\n^ G. James (2003) Variance and Bias for General Loss Functions, Machine Learning 51, 115–135. (http://www-bcf.usc.edu/~gareth/research/bv.pdf)\\n\\n^ C.E. Brodely and M.A. Friedl (1999). Identifying and Eliminating Mislabeled Training Instances, Journal of Artificial Intelligence Research 11, 131–167. (http://jair.org/media/606/live-606-1803-jair.pdf)\\n\\n^ M.R. Smith and T. Martinez (2011). \"Improving Classification Accuracy by Identifying and Removing Instances that Should Be Misclassified\". Proceedings of International Joint Conference on Neural Networks (IJCNN 2011). pp.\\xa02690–2697. CiteSeerX\\xa010.1.1.221.1371. doi:10.1109/IJCNN.2011.6033571.\\n\\n^ Vapnik, V. N. The Nature of Statistical Learning Theory (2nd Ed.), Springer Verlag, 2000.\\n\\n^ A. Maity (2016). \"Supervised Classification of RADARSAT-2 Polarimetric Data for Different Land Features\". arXiv:1608.00501 [cs.CV].\\n\\n^ \"Key Technologies for Agile Procurement | SIPMM Publications\". publication.sipmm.edu.sg. 2020-10-09. Retrieved 2022-06-16.\\n\\n\\nExternal links[edit]\\nMachine Learning Open Source Software (MLOSS)\\nvteDifferentiable computingGeneral\\nDifferentiable programming\\nInformation geometry\\nStatistical manifold\\nAutomatic differentiation\\nNeuromorphic computing\\nPattern recognition\\nRicci calculus\\nComputational learning theory\\nInductive bias\\nHardware\\nIPU\\nTPU\\nVPU\\nMemristor\\nSpiNNaker\\nSoftware libraries\\nTensorFlow\\nPyTorch\\nKeras\\nscikit-learn\\nTheano\\nJAX\\nFlux.jl\\nMindSpore\\n\\n Portals\\nComputer programming\\nTechnology\\n\\nAuthority control databases NationalUnited StatesIsraelOtherYale LUX\\n\\n\\n\\n\\nRetrieved from \"https://en.wikipedia.org/w/index.php?title=Supervised_learning&oldid=1308164940\"\\nCategory: Supervised learningHidden categories: Articles with short descriptionShort description is different from Wikidata\\n\\n\\n\\n\\n\\n\\n This page was last edited on 27 August 2025, at 21:43\\xa0(UTC).\\nText is available under the Creative Commons Attribution-ShareAlike 4.0 License;\\nadditional terms may apply. By using this site, you agree to the Terms of Use and Privacy Policy. Wikipedia® is a registered trademark of the Wikimedia Foundation, Inc., a non-profit organization.\\n\\n\\nPrivacy policy\\nAbout Wikipedia\\nDisclaimers\\nContact Wikipedia\\nCode of Conduct\\nDevelopers\\nStatistics\\nCookie statement\\nMobile view\\n\\n\\n\\n\\n\\n\\n\\n\\n\\n\\n\\n\\n\\n\\nSearch\\n\\n\\n\\n\\n\\n\\n\\n\\n\\n\\n\\n\\n\\nSearch\\n\\n\\n\\n\\n\\n\\n\\n\\n\\nToggle the table of contents\\n\\n\\n\\n\\n\\n\\n\\nSupervised learning\\n\\n\\n\\n\\n\\n\\n\\n\\n\\n\\n\\n\\n\\n\\n\\n\\n\\n\\n\\n\\n\\n\\n\\n\\n\\n\\n\\n\\n\\n\\n\\n38 languages\\n\\n\\nAdd topic\\n\\n\\n\\n\\n\\n\\n\\n\\n\\n\\n\\n\\n\\n\\n\\n\\n')]"
      ]
     },
     "execution_count": 26,
     "metadata": {},
     "output_type": "execute_result"
    }
   ],
   "source": [
    "docs=loader.load()\n",
    "docs"
   ]
  },
  {
   "cell_type": "code",
   "execution_count": 27,
   "metadata": {},
   "outputs": [],
   "source": [
    "### Load Data--> Docs-->Divide our Docuemnts into chunks dcouments-->text-->vectors-->Vector Embeddings--->Vector Store DB\n",
    "from langchain_text_splitters import RecursiveCharacterTextSplitter\n",
    "\n",
    "text_splitter=RecursiveCharacterTextSplitter(chunk_size=1000,chunk_overlap=200)\n",
    "documents=text_splitter.split_documents(docs)"
   ]
  },
  {
   "cell_type": "code",
   "execution_count": 28,
   "metadata": {},
   "outputs": [
    {
     "data": {
      "text/plain": [
       "[Document(metadata={'source': 'https://en.wikipedia.org/wiki/Supervised_learning', 'title': 'Supervised learning - Wikipedia', 'language': 'en'}, page_content='Supervised learning - Wikipedia\\n\\n\\n\\n\\n\\n\\n\\n\\n\\n\\n\\n\\n\\n\\n\\n\\n\\n\\n\\n\\n\\n\\n\\n\\n\\n\\n\\n\\n\\n\\nJump to content\\n\\n\\n\\n\\n\\n\\n\\nMain menu\\n\\n\\n\\n\\n\\nMain menu\\nmove to sidebar\\nhide\\n\\n\\n\\n\\t\\tNavigation\\n\\t\\n\\n\\nMain pageContentsCurrent eventsRandom articleAbout WikipediaContact us\\n\\n\\n\\n\\n\\n\\t\\tContribute\\n\\t\\n\\n\\nHelpLearn to editCommunity portalRecent changesUpload fileSpecial pages\\n\\n\\n\\n\\n\\n\\n\\n\\n\\n\\n\\n\\n\\n\\n\\n\\n\\n\\n\\nSearch\\n\\n\\n\\n\\n\\n\\n\\n\\n\\n\\n\\nSearch\\n\\n\\n\\n\\n\\n\\n\\n\\n\\n\\n\\n\\n\\n\\n\\n\\n\\n\\n\\n\\n\\n\\nAppearance\\n\\n\\n\\n\\n\\n\\n\\n\\n\\n\\n\\n\\n\\n\\n\\n\\nDonate\\n\\nCreate account\\n\\nLog in\\n\\n\\n\\n\\n\\n\\n\\n\\nPersonal tools\\n\\n\\n\\n\\n\\nDonate Create account Log in\\n\\n\\n\\n\\n\\n\\t\\tPages for logged out editors learn more\\n\\n\\n\\nContributionsTalk\\n\\n\\n\\n\\n\\n\\n\\n\\n\\n\\n\\n\\n\\n\\n\\n\\n\\n\\n\\n\\n\\n\\n\\n\\n\\n\\n\\n\\nContents\\nmove to sidebar\\nhide\\n\\n\\n\\n\\n(Top)\\n\\n\\n\\n\\n\\n1\\nSteps to follow\\n\\n\\n\\n\\n\\n\\n\\n\\n2\\nAlgorithm choice\\n\\n\\n\\n\\nToggle Algorithm choice subsection\\n\\n\\n\\n\\n\\n2.1\\nBias–variance tradeoff\\n\\n\\n\\n\\n\\n\\n\\n\\n2.2\\nFunction complexity and amount of training data\\n\\n\\n\\n\\n\\n\\n\\n\\n2.3\\nDimensionality of the input space\\n\\n\\n\\n\\n\\n\\n\\n\\n2.4\\nNoise in the output values\\n\\n\\n\\n\\n\\n\\n\\n\\n2.5\\nOther factors to consider\\n\\n\\n\\n\\n\\n\\n\\n\\n2.6\\nAlgorithms'),\n",
       " Document(metadata={'source': 'https://en.wikipedia.org/wiki/Supervised_learning', 'title': 'Supervised learning - Wikipedia', 'language': 'en'}, page_content='2.3\\nDimensionality of the input space\\n\\n\\n\\n\\n\\n\\n\\n\\n2.4\\nNoise in the output values\\n\\n\\n\\n\\n\\n\\n\\n\\n2.5\\nOther factors to consider\\n\\n\\n\\n\\n\\n\\n\\n\\n2.6\\nAlgorithms\\n\\n\\n\\n\\n\\n\\n\\n\\n\\n\\n3\\nHow supervised learning algorithms work\\n\\n\\n\\n\\nToggle How supervised learning algorithms work subsection\\n\\n\\n\\n\\n\\n3.1\\nEmpirical risk minimization\\n\\n\\n\\n\\n\\n\\n\\n\\n3.2\\nStructural risk minimization\\n\\n\\n\\n\\n\\n\\n\\n\\n\\n\\n4\\nGenerative training\\n\\n\\n\\n\\n\\n\\n\\n\\n5\\nGeneralizations\\n\\n\\n\\n\\n\\n\\n\\n\\n6\\nApproaches and algorithms\\n\\n\\n\\n\\n\\n\\n\\n\\n7\\nApplications\\n\\n\\n\\n\\n\\n\\n\\n\\n8\\nGeneral issues\\n\\n\\n\\n\\n\\n\\n\\n\\n9\\nSee also\\n\\n\\n\\n\\n\\n\\n\\n\\n10\\nReferences\\n\\n\\n\\n\\n\\n\\n\\n\\n11\\nExternal links\\n\\n\\n\\n\\n\\n\\n\\n\\n\\n\\n\\n\\n\\n\\n\\n\\n\\n\\nToggle the table of contents\\n\\n\\n\\n\\n\\n\\n\\nSupervised learning\\n\\n\\n\\n38 languages\\n\\n\\n\\n\\nالعربيةتۆرکجهবাংলা閩南語 / Bân-lâm-gíBosanskiCatalàČeštinaDanskDeutschEestiΕλληνικάEspañolفارسیFrançais한국어ՀայերենBahasa IndonesiaItalianoעבריתಕನ್ನಡमराठीNederlands日本語ଓଡ଼ିଆPolskiPortuguêsRuna SimiРусскийSimple EnglishکوردیСрпски / srpskiSuomiไทยTürkçeУкраїнськаTiếng Việt粵語中文\\n\\nEdit links\\n\\n\\n\\n\\n\\n\\n\\n\\n\\n\\n\\nArticleTalk\\n\\n\\n\\n\\n\\nEnglish\\n\\n\\n\\n\\n\\n\\n\\n\\n\\n\\n\\n\\n\\n\\n\\n\\n\\nReadEditView history'),\n",
       " Document(metadata={'source': 'https://en.wikipedia.org/wiki/Supervised_learning', 'title': 'Supervised learning - Wikipedia', 'language': 'en'}, page_content='Edit links\\n\\n\\n\\n\\n\\n\\n\\n\\n\\n\\n\\nArticleTalk\\n\\n\\n\\n\\n\\nEnglish\\n\\n\\n\\n\\n\\n\\n\\n\\n\\n\\n\\n\\n\\n\\n\\n\\n\\nReadEditView history\\n\\n\\n\\n\\n\\n\\n\\nTools\\n\\n\\n\\n\\n\\nTools\\nmove to sidebar\\nhide\\n\\n\\n\\n\\t\\tActions\\n\\t\\n\\n\\nReadEditView history\\n\\n\\n\\n\\n\\n\\t\\tGeneral\\n\\t\\n\\n\\nWhat links hereRelated changesUpload filePermanent linkPage informationCite this pageGet shortened URLDownload QR code\\n\\n\\n\\n\\n\\n\\t\\tPrint/export\\n\\t\\n\\n\\nDownload as PDFPrintable version\\n\\n\\n\\n\\n\\n\\t\\tIn other projects\\n\\t\\n\\n\\nWikidata item\\n\\n\\n\\n\\n\\n\\n\\n\\n\\n\\n\\n\\n\\n\\n\\n\\n\\n\\n\\n\\n\\nAppearance\\nmove to sidebar\\nhide\\n\\n\\n\\n\\n\\n\\n\\n\\n\\n\\nFrom Wikipedia, the free encyclopedia'),\n",
       " Document(metadata={'source': 'https://en.wikipedia.org/wiki/Supervised_learning', 'title': 'Supervised learning - Wikipedia', 'language': 'en'}, page_content='Machine learning paradigm\\nIn supervised learning, the training data is labeled with the expected answers, while in unsupervised learning, the model identifies patterns or structures in unlabeled data.\\nIn machine learning, supervised learning (SL) is a type of machine learning paradigm where an algorithm learns to map input data to a specific output based on example input-output pairs. This process involves training a statistical model using labeled data, meaning each piece of input data is provided with the correct output. For instance, if you want a model to identify cats in images, supervised learning would involve feeding it many images of cats (inputs) that are explicitly labeled \"cat\" (outputs).'),\n",
       " Document(metadata={'source': 'https://en.wikipedia.org/wiki/Supervised_learning', 'title': 'Supervised learning - Wikipedia', 'language': 'en'}, page_content='The goal of supervised learning is for the trained model to accurately predict the output for new, unseen data.[1] This requires the algorithm to effectively generalize from the training examples, a quality measured by its generalization error. Supervised learning is commonly used for tasks like classification (predicting a category, e.g., spam or not spam) and regression (predicting a continuous value, e.g., house prices).'),\n",
       " Document(metadata={'source': 'https://en.wikipedia.org/wiki/Supervised_learning', 'title': 'Supervised learning - Wikipedia', 'language': 'en'}, page_content='Steps to follow[edit]\\nTo solve a given problem of supervised learning, the following steps must be performed:'),\n",
       " Document(metadata={'source': 'https://en.wikipedia.org/wiki/Supervised_learning', 'title': 'Supervised learning - Wikipedia', 'language': 'en'}, page_content='Determine the type of training samples. Before doing anything else, the user should decide what kind of data is to be used as a training set. In the case of handwriting analysis, for example, this might be a single handwritten character, an entire handwritten word, an entire sentence of handwriting, or a full paragraph of handwriting.\\nGather a training set. The training set needs to be representative of the real-world use of the function. Thus, a set of input objects is gathered together with corresponding outputs, either from human experts or from measurements.'),\n",
       " Document(metadata={'source': 'https://en.wikipedia.org/wiki/Supervised_learning', 'title': 'Supervised learning - Wikipedia', 'language': 'en'}, page_content='Determine the input feature representation of the learned function. The accuracy of the learned function depends strongly on how the input object is represented. Typically, the input object is transformed into a feature vector, which contains a number of features that are descriptive of the object. The number of features should not be too large, because of the curse of dimensionality; but should contain enough information to accurately predict the output.\\nDetermine the structure of the learned function and corresponding learning algorithm. For example, one may choose to use support-vector machines or decision trees.\\nComplete the design. Run the learning algorithm on the gathered training set. Some supervised learning algorithms require the user to determine certain control parameters. These parameters may be adjusted by optimizing performance on a subset (called a validation set) of the training set, or via cross-validation.'),\n",
       " Document(metadata={'source': 'https://en.wikipedia.org/wiki/Supervised_learning', 'title': 'Supervised learning - Wikipedia', 'language': 'en'}, page_content='Evaluate the accuracy of the learned function. After parameter adjustment and learning, the performance of the resulting function should be measured on a test set that is separate from the training set.\\nAlgorithm choice[edit]\\nA wide range of supervised learning algorithms are available, each with its strengths and weaknesses. There is no single learning algorithm that works best on all supervised learning problems (see the No free lunch theorem).\\nThere are four major issues to consider in supervised learning:'),\n",
       " Document(metadata={'source': 'https://en.wikipedia.org/wiki/Supervised_learning', 'title': 'Supervised learning - Wikipedia', 'language': 'en'}, page_content='Bias–variance tradeoff[edit]\\nMain article: Bias–variance tradeoff\\nA first issue is the tradeoff between bias and variance.[2] Imagine that we have available several different, but equally good, training data sets. A learning algorithm is biased for a particular input \\n\\n\\n\\nx\\n\\n\\n{\\\\displaystyle x}\\n\\n if, when trained on each of these data sets, it is systematically incorrect when predicting the correct output for \\n\\n\\n\\nx\\n\\n\\n{\\\\displaystyle x}\\n\\n. A learning algorithm has high variance for a particular input \\n\\n\\n\\nx\\n\\n\\n{\\\\displaystyle x}'),\n",
       " Document(metadata={'source': 'https://en.wikipedia.org/wiki/Supervised_learning', 'title': 'Supervised learning - Wikipedia', 'language': 'en'}, page_content='x\\n\\n\\n{\\\\displaystyle x}\\n\\n. A learning algorithm has high variance for a particular input \\n\\n\\n\\nx\\n\\n\\n{\\\\displaystyle x}\\n\\n if it predicts different output values when trained on different training sets. The prediction error of a learned classifier is related to the sum of the bias and the variance of the learning algorithm.[3] Generally, there is a tradeoff between bias and variance. A learning algorithm with low bias must be \"flexible\" so that it can fit the data well. But if the learning algorithm is too flexible, it will fit each training data set differently, and hence have high variance. A key aspect of many supervised learning methods is that they are able to adjust this tradeoff between bias and variance (either automatically or by providing a bias/variance parameter that the user can adjust).'),\n",
       " Document(metadata={'source': 'https://en.wikipedia.org/wiki/Supervised_learning', 'title': 'Supervised learning - Wikipedia', 'language': 'en'}, page_content='Function complexity and amount of training data[edit]\\nThe second issue is of the amount of training data available relative to the complexity of the \"true\" function (classifier or regression function). If the true function is simple, then an \"inflexible\" learning algorithm with high bias and low variance will be able to learn it from a small amount of data. But if the true function is highly complex (e.g., because it involves complex interactions among many different input features and behaves differently in different parts of the input space), then the function will only be able to learn with a large amount of training data paired with a \"flexible\" learning algorithm with low bias and high variance.'),\n",
       " Document(metadata={'source': 'https://en.wikipedia.org/wiki/Supervised_learning', 'title': 'Supervised learning - Wikipedia', 'language': 'en'}, page_content='Dimensionality of the input space[edit]\\nA third issue is the dimensionality of the input space. If the input feature vectors have large dimensions, learning the function can be difficult even if the true function only depends on a small number of those features. This is because the many \"extra\" dimensions can confuse the learning algorithm and cause it to have high variance. Hence, input data of large dimensions typically requires tuning the classifier to have low variance and high bias. In practice, if the engineer can manually remove irrelevant features from the input data, it will likely improve the accuracy of the learned function. In addition, there are many algorithms for feature selection that seek to identify the relevant features and discard the irrelevant ones. This is an instance of the more general strategy of dimensionality reduction, which seeks to map the input data into a lower-dimensional space prior to running the supervised learning algorithm.'),\n",
       " Document(metadata={'source': 'https://en.wikipedia.org/wiki/Supervised_learning', 'title': 'Supervised learning - Wikipedia', 'language': 'en'}, page_content='Noise in the output values[edit]\\nA fourth issue is the degree of noise in the desired output values (the supervisory target variables). If the desired output values are often incorrect (because of human error or sensor errors), then the learning algorithm should not attempt to find a function that exactly matches the training examples. Attempting to fit the data too carefully leads to overfitting. You can overfit even when there are no measurement errors (stochastic noise) if the function you are trying to learn is too complex for your learning model. In such a situation, the part of the target function that cannot be modeled \"corrupts\" your training data – this phenomenon has been called deterministic noise. When either type of noise is present, it is better to go with a higher bias, lower variance estimator.'),\n",
       " Document(metadata={'source': 'https://en.wikipedia.org/wiki/Supervised_learning', 'title': 'Supervised learning - Wikipedia', 'language': 'en'}, page_content='In practice, there are several approaches to alleviate noise in the output values such as early stopping to prevent overfitting as well as detecting and removing the noisy training examples prior to training the supervised learning algorithm. There are several algorithms that identify noisy training examples and removing the suspected noisy training examples prior to training has decreased generalization error with statistical significance.[4][5]'),\n",
       " Document(metadata={'source': 'https://en.wikipedia.org/wiki/Supervised_learning', 'title': 'Supervised learning - Wikipedia', 'language': 'en'}, page_content='Other factors to consider[edit]\\nOther factors to consider when choosing and applying a learning algorithm include the following:'),\n",
       " Document(metadata={'source': 'https://en.wikipedia.org/wiki/Supervised_learning', 'title': 'Supervised learning - Wikipedia', 'language': 'en'}, page_content='Heterogeneity of the data. If the feature vectors include features of many different kinds (discrete, discrete ordered, counts, continuous values), some algorithms are easier to apply than others. Many algorithms, including support-vector machines, linear regression, logistic regression, neural networks, and nearest neighbor methods, require that the input features be numerical and scaled to similar ranges (e.g., to the [-1,1] interval). Methods that employ a distance function, such as nearest neighbor methods and support-vector machines with Gaussian kernels, are particularly sensitive to this. An advantage of decision trees is that they easily handle heterogeneous data.'),\n",
       " Document(metadata={'source': 'https://en.wikipedia.org/wiki/Supervised_learning', 'title': 'Supervised learning - Wikipedia', 'language': 'en'}, page_content='Redundancy in the data. If the input features contain redundant information (e.g., highly correlated features), some learning algorithms (e.g., linear regression, logistic regression, and  distance-based methods) will perform poorly because of numerical instabilities. These problems can often be solved by imposing some form of regularization.'),\n",
       " Document(metadata={'source': 'https://en.wikipedia.org/wiki/Supervised_learning', 'title': 'Supervised learning - Wikipedia', 'language': 'en'}, page_content='Presence of interactions and non-linearities. If each of the features makes an independent contribution to the output, then algorithms based on linear functions (e.g., linear regression, logistic regression, support-vector machines, naive Bayes) and distance functions (e.g., nearest neighbor methods, support-vector machines with Gaussian kernels) generally perform well. However, if there are complex interactions among features, then algorithms such as decision trees and neural networks work better, because they are specifically designed to discover these interactions. Linear methods can also be applied, but the engineer must manually specify the interactions when using them.'),\n",
       " Document(metadata={'source': 'https://en.wikipedia.org/wiki/Supervised_learning', 'title': 'Supervised learning - Wikipedia', 'language': 'en'}, page_content='When considering a new application, the engineer can compare multiple learning algorithms and experimentally determine which one works best on the problem at hand (see  cross-validation). Tuning the performance of a learning algorithm can be very time-consuming. Given fixed resources, it is often better to spend more time collecting additional training data and more informative features than it is to spend extra time tuning the learning algorithms.'),\n",
       " Document(metadata={'source': 'https://en.wikipedia.org/wiki/Supervised_learning', 'title': 'Supervised learning - Wikipedia', 'language': 'en'}, page_content='Algorithms[edit]\\nThe most widely used learning algorithms are: \\n\\nSupport-vector machines\\nLinear regression\\nLogistic regression\\nNaive Bayes\\nLinear discriminant analysis\\nDecision trees\\nk-nearest neighbors algorithm\\nNeural networks (e.g., Multilayer perceptron)\\nSimilarity learning\\nHow supervised learning algorithms work[edit]\\nGiven a set of \\n\\n\\n\\nN\\n\\n\\n{\\\\displaystyle N}\\n\\n training examples of the form \\n\\n\\n\\n{\\n(\\n\\nx\\n\\n1\\n\\n\\n,\\n\\ny\\n\\n1\\n\\n\\n)\\n,\\n.\\n.\\n.\\n,\\n(\\n\\nx\\n\\nN\\n\\n\\n,\\n\\n\\ny\\n\\nN\\n\\n\\n)\\n}\\n\\n\\n{\\\\displaystyle \\\\{(x_{1},y_{1}),...,(x_{N},\\\\;y_{N})\\\\}}\\n\\n such that \\n\\n\\n\\n\\nx\\n\\ni\\n\\n\\n\\n\\n{\\\\displaystyle x_{i}}\\n\\n is the feature vector of the \\n\\n\\n\\ni\\n\\n\\n{\\\\displaystyle i}\\n\\n-th example and \\n\\n\\n\\n\\ny\\n\\ni\\n\\n\\n\\n\\n{\\\\displaystyle y_{i}}\\n\\n is its label (i.e., class), a learning algorithm seeks a function \\n\\n\\n\\ng\\n:\\nX\\n→\\nY\\n\\n\\n{\\\\displaystyle g:X\\\\to Y}\\n\\n, where \\n\\n\\n\\nX\\n\\n\\n{\\\\displaystyle X}\\n\\n is the input space and \\n\\n\\n\\nY\\n\\n\\n{\\\\displaystyle Y}\\n\\n is the output space. The function \\n\\n\\n\\ng\\n\\n\\n{\\\\displaystyle g}\\n\\n is an element of some space of possible functions \\n\\n\\n\\nG'),\n",
       " Document(metadata={'source': 'https://en.wikipedia.org/wiki/Supervised_learning', 'title': 'Supervised learning - Wikipedia', 'language': 'en'}, page_content='X\\n\\n\\n{\\\\displaystyle X}\\n\\n is the input space and \\n\\n\\n\\nY\\n\\n\\n{\\\\displaystyle Y}\\n\\n is the output space. The function \\n\\n\\n\\ng\\n\\n\\n{\\\\displaystyle g}\\n\\n is an element of some space of possible functions \\n\\n\\n\\nG\\n\\n\\n{\\\\displaystyle G}\\n\\n, usually called the hypothesis space. It is sometimes convenient to represent \\n\\n\\n\\ng\\n\\n\\n{\\\\displaystyle g}\\n\\n using a scoring function \\n\\n\\n\\nf\\n:\\nX\\n×\\nY\\n→\\n\\nR\\n\\n\\n\\n{\\\\displaystyle f:X\\\\times Y\\\\to \\\\mathbb {R} }\\n\\n such that \\n\\n\\n\\ng\\n\\n\\n{\\\\displaystyle g}\\n\\n is defined as returning the \\n\\n\\n\\ny\\n\\n\\n{\\\\displaystyle y}\\n\\n value that gives the highest score: \\n\\n\\n\\ng\\n(\\nx\\n)\\n=\\n\\n\\n\\narg\\n\\u2061\\nmax\\n\\ny\\n\\n\\n\\nf\\n(\\nx\\n,\\ny\\n)\\n\\n\\n{\\\\displaystyle g(x)={\\\\underset {y}{\\\\arg \\\\max }}\\\\;f(x,y)}\\n\\n. Let \\n\\n\\n\\nF\\n\\n\\n{\\\\displaystyle F}\\n\\n denote the space of scoring functions.\\nAlthough \\n\\n\\n\\nG\\n\\n\\n{\\\\displaystyle G}\\n\\n and \\n\\n\\n\\nF\\n\\n\\n{\\\\displaystyle F}\\n\\n can be any space of functions, many learning algorithms are probabilistic models where \\n\\n\\n\\ng\\n\\n\\n{\\\\displaystyle g}\\n\\n takes the form of a conditional probability model \\n\\n\\n\\ng\\n(\\nx\\n)\\n=\\n\\n\\n\\narg\\n\\u2061\\nmax\\n\\ny\\n\\n\\n\\nP\\n(\\ny'),\n",
       " Document(metadata={'source': 'https://en.wikipedia.org/wiki/Supervised_learning', 'title': 'Supervised learning - Wikipedia', 'language': 'en'}, page_content='g\\n\\n\\n{\\\\displaystyle g}\\n\\n takes the form of a conditional probability model \\n\\n\\n\\ng\\n(\\nx\\n)\\n=\\n\\n\\n\\narg\\n\\u2061\\nmax\\n\\ny\\n\\n\\n\\nP\\n(\\ny\\n\\n|\\n\\nx\\n)\\n\\n\\n{\\\\displaystyle g(x)={\\\\underset {y}{\\\\arg \\\\max }}\\\\;P(y|x)}\\n\\n, or \\n\\n\\n\\nf\\n\\n\\n{\\\\displaystyle f}\\n\\n takes the form of a joint probability model \\n\\n\\n\\nf\\n(\\nx\\n,\\ny\\n)\\n=\\nP\\n(\\nx\\n,\\ny\\n)\\n\\n\\n{\\\\displaystyle f(x,y)=P(x,y)}\\n\\n. For example, naive Bayes and linear discriminant analysis are joint probability models, whereas logistic regression is a conditional probability model.\\nThere are two basic approaches to choosing \\n\\n\\n\\nf\\n\\n\\n{\\\\displaystyle f}\\n\\n or \\n\\n\\n\\ng\\n\\n\\n{\\\\displaystyle g}\\n\\n: empirical risk minimization and structural risk minimization.[6] Empirical risk minimization seeks the function that best fits the training data. Structural risk minimization includes a penalty function that controls the bias/variance tradeoff.\\nIn both cases, it is assumed that the training set consists of a sample of independent and identically distributed pairs, \\n\\n\\n\\n(\\n\\nx\\n\\ni\\n\\n\\n,\\n\\n\\ny\\n\\ni\\n\\n\\n)'),\n",
       " Document(metadata={'source': 'https://en.wikipedia.org/wiki/Supervised_learning', 'title': 'Supervised learning - Wikipedia', 'language': 'en'}, page_content='(\\n\\nx\\n\\ni\\n\\n\\n,\\n\\n\\ny\\n\\ni\\n\\n\\n)\\n\\n\\n{\\\\displaystyle (x_{i},\\\\;y_{i})}\\n\\n. In order to measure how well a function fits the training data, a loss function \\n\\n\\n\\nL\\n:\\nY\\n×\\nY\\n→\\n\\n\\nR\\n\\n\\n≥\\n0\\n\\n\\n\\n\\n{\\\\displaystyle L:Y\\\\times Y\\\\to \\\\mathbb {R} ^{\\\\geq 0}}\\n\\n is defined. For training example \\n\\n\\n\\n(\\n\\nx\\n\\ni\\n\\n\\n,\\n\\n\\ny\\n\\ni\\n\\n\\n)\\n\\n\\n{\\\\displaystyle (x_{i},\\\\;y_{i})}\\n\\n, the loss of predicting the value \\n\\n\\n\\n\\n\\n\\ny\\n^\\n\\n\\n\\n\\n\\n{\\\\displaystyle {\\\\hat {y}}}\\n\\n is \\n\\n\\n\\nL\\n(\\n\\ny\\n\\ni\\n\\n\\n,\\n\\n\\n\\ny\\n^\\n\\n\\n\\n)\\n\\n\\n{\\\\displaystyle L(y_{i},{\\\\hat {y}})}\\n\\n.\\nThe risk \\n\\n\\n\\nR\\n(\\ng\\n)\\n\\n\\n{\\\\displaystyle R(g)}\\n\\n of function \\n\\n\\n\\ng\\n\\n\\n{\\\\displaystyle g}\\n\\n is defined as the expected loss of \\n\\n\\n\\ng\\n\\n\\n{\\\\displaystyle g}\\n\\n. This can be estimated from the training data as\\n\\n\\n\\n\\n\\n\\nR\\n\\ne\\nm\\np\\n\\n\\n(\\ng\\n)\\n=\\n\\n\\n1\\nN\\n\\n\\n\\n∑\\n\\ni\\n\\n\\nL\\n(\\n\\ny\\n\\ni\\n\\n\\n,\\ng\\n(\\n\\nx\\n\\ni\\n\\n\\n)\\n)\\n\\n\\n{\\\\displaystyle R_{emp}(g)={\\\\frac {1}{N}}\\\\sum _{i}L(y_{i},g(x_{i}))}\\n\\n.\\nEmpirical risk minimization[edit]\\nMain article: Empirical risk minimization\\nIn empirical risk minimization, the supervised learning algorithm seeks the function \\n\\n\\n\\ng'),\n",
       " Document(metadata={'source': 'https://en.wikipedia.org/wiki/Supervised_learning', 'title': 'Supervised learning - Wikipedia', 'language': 'en'}, page_content='.\\nEmpirical risk minimization[edit]\\nMain article: Empirical risk minimization\\nIn empirical risk minimization, the supervised learning algorithm seeks the function \\n\\n\\n\\ng\\n\\n\\n{\\\\displaystyle g}\\n\\n that minimizes \\n\\n\\n\\nR\\n(\\ng\\n)\\n\\n\\n{\\\\displaystyle R(g)}\\n\\n. Hence, a supervised learning algorithm can be constructed by applying an optimization algorithm to find \\n\\n\\n\\ng\\n\\n\\n{\\\\displaystyle g}\\n\\n.\\nWhen \\n\\n\\n\\ng\\n\\n\\n{\\\\displaystyle g}\\n\\n is a conditional probability distribution \\n\\n\\n\\nP\\n(\\ny\\n\\n|\\n\\nx\\n)\\n\\n\\n{\\\\displaystyle P(y|x)}\\n\\n and the loss function is the negative log likelihood: \\n\\n\\n\\nL\\n(\\ny\\n,\\n\\n\\n\\ny\\n^\\n\\n\\n\\n)\\n=\\n−\\nlog\\n\\u2061\\nP\\n(\\ny\\n\\n|\\n\\nx\\n)\\n\\n\\n{\\\\displaystyle L(y,{\\\\hat {y}})=-\\\\log P(y|x)}\\n\\n, then empirical risk minimization is equivalent to maximum likelihood estimation.\\nWhen \\n\\n\\n\\nG\\n\\n\\n{\\\\displaystyle G}'),\n",
       " Document(metadata={'source': 'https://en.wikipedia.org/wiki/Supervised_learning', 'title': 'Supervised learning - Wikipedia', 'language': 'en'}, page_content=\"y\\n^\\n\\n\\n\\n)\\n=\\n−\\nlog\\n\\u2061\\nP\\n(\\ny\\n\\n|\\n\\nx\\n)\\n\\n\\n{\\\\displaystyle L(y,{\\\\hat {y}})=-\\\\log P(y|x)}\\n\\n, then empirical risk minimization is equivalent to maximum likelihood estimation.\\nWhen \\n\\n\\n\\nG\\n\\n\\n{\\\\displaystyle G}\\n\\n contains many candidate functions or the training set is not sufficiently large, empirical risk minimization leads to high variance and poor generalization. The learning algorithm is able to memorize the training examples without generalizing well (overfitting).\\n\\nStructural risk minimization[edit]\\nStructural risk minimization seeks to prevent overfitting by incorporating a regularization penalty into the optimization. The regularization penalty can be viewed as implementing a form of Occam's razor that prefers simpler functions over more complex ones.\\nA wide variety of penalties have been employed that correspond to different definitions of complexity. For example, consider the case where the function \\n\\n\\n\\ng\\n\\n\\n{\\\\displaystyle g}\\n\\n is a linear function of the form\\n\\n\\n\\n\\n\\ng\\n(\\nx\\n)\\n=\\n\\n∑\\n\\nj\\n=\\n1\"),\n",
       " Document(metadata={'source': 'https://en.wikipedia.org/wiki/Supervised_learning', 'title': 'Supervised learning - Wikipedia', 'language': 'en'}, page_content='g\\n\\n\\n{\\\\displaystyle g}\\n\\n is a linear function of the form\\n\\n\\n\\n\\n\\ng\\n(\\nx\\n)\\n=\\n\\n∑\\n\\nj\\n=\\n1\\n\\n\\nd\\n\\n\\n\\nβ\\n\\nj\\n\\n\\n\\nx\\n\\nj\\n\\n\\n\\n\\n{\\\\displaystyle g(x)=\\\\sum _{j=1}^{d}\\\\beta _{j}x_{j}}\\n\\n.\\nA popular regularization penalty is \\n\\n\\n\\n\\n∑\\n\\nj\\n\\n\\n\\nβ\\n\\nj\\n\\n\\n2\\n\\n\\n\\n\\n{\\\\displaystyle \\\\sum _{j}\\\\beta _{j}^{2}}\\n\\n, which is the squared Euclidean norm of the weights, also known as the \\n\\n\\n\\n\\nL\\n\\n2\\n\\n\\n\\n\\n{\\\\displaystyle L_{2}}\\n\\n norm. Other norms include the \\n\\n\\n\\n\\nL\\n\\n1\\n\\n\\n\\n\\n{\\\\displaystyle L_{1}}\\n\\n norm, \\n\\n\\n\\n\\n∑\\n\\nj\\n\\n\\n\\n|\\n\\n\\nβ\\n\\nj\\n\\n\\n\\n|\\n\\n\\n\\n{\\\\displaystyle \\\\sum _{j}|\\\\beta _{j}|}\\n\\n, and the \\n\\n\\n\\n\\nL\\n\\n0\\n\\n\\n\\n\\n{\\\\displaystyle L_{0}}\\n\\n \"norm\", which is the number of non-zero \\n\\n\\n\\n\\nβ\\n\\nj\\n\\n\\n\\n\\n{\\\\displaystyle \\\\beta _{j}}\\n\\ns. The penalty will be denoted by \\n\\n\\n\\nC\\n(\\ng\\n)\\n\\n\\n{\\\\displaystyle C(g)}\\n\\n.\\nThe supervised learning optimization problem is to find the function \\n\\n\\n\\ng\\n\\n\\n{\\\\displaystyle g}\\n\\n that minimizes\\n\\n\\n\\n\\n\\nJ\\n(\\ng\\n)\\n=\\n\\nR\\n\\ne\\nm\\np\\n\\n\\n(\\ng\\n)\\n+\\nλ\\nC\\n(\\ng\\n)\\n.\\n\\n\\n{\\\\displaystyle J(g)=R_{emp}(g)+\\\\lambda C(g).}\\n\\n\\nThe parameter \\n\\n\\n\\nλ\\n\\n\\n{\\\\displaystyle \\\\lambda }'),\n",
       " Document(metadata={'source': 'https://en.wikipedia.org/wiki/Supervised_learning', 'title': 'Supervised learning - Wikipedia', 'language': 'en'}, page_content='g\\n\\n\\n{\\\\displaystyle g}\\n\\n that minimizes\\n\\n\\n\\n\\n\\nJ\\n(\\ng\\n)\\n=\\n\\nR\\n\\ne\\nm\\np\\n\\n\\n(\\ng\\n)\\n+\\nλ\\nC\\n(\\ng\\n)\\n.\\n\\n\\n{\\\\displaystyle J(g)=R_{emp}(g)+\\\\lambda C(g).}\\n\\n\\nThe parameter \\n\\n\\n\\nλ\\n\\n\\n{\\\\displaystyle \\\\lambda }\\n\\n controls the bias-variance tradeoff. When \\n\\n\\n\\nλ\\n=\\n0\\n\\n\\n{\\\\displaystyle \\\\lambda =0}\\n\\n, this gives empirical risk minimization with low bias and high variance. When \\n\\n\\n\\nλ\\n\\n\\n{\\\\displaystyle \\\\lambda }\\n\\n is large, the learning algorithm will have high bias and low variance. The value of \\n\\n\\n\\nλ\\n\\n\\n{\\\\displaystyle \\\\lambda }\\n\\n can be chosen empirically via  cross-validation.\\nThe complexity penalty has a Bayesian interpretation as the negative log prior probability of \\n\\n\\n\\ng\\n\\n\\n{\\\\displaystyle g}\\n\\n, \\n\\n\\n\\n−\\nlog\\n\\u2061\\nP\\n(\\ng\\n)\\n\\n\\n{\\\\displaystyle -\\\\log P(g)}\\n\\n, in which case \\n\\n\\n\\nJ\\n(\\ng\\n)\\n\\n\\n{\\\\displaystyle J(g)}\\n\\n is the posterior probability of \\n\\n\\n\\ng\\n\\n\\n{\\\\displaystyle g}\\n\\n.\\n\\nGenerative training[edit]\\nThe training methods described above are discriminative training methods, because they seek to find a function \\n\\n\\n\\ng'),\n",
       " Document(metadata={'source': 'https://en.wikipedia.org/wiki/Supervised_learning', 'title': 'Supervised learning - Wikipedia', 'language': 'en'}, page_content='g\\n\\n\\n{\\\\displaystyle g}\\n\\n.\\n\\nGenerative training[edit]\\nThe training methods described above are discriminative training methods, because they seek to find a function \\n\\n\\n\\ng\\n\\n\\n{\\\\displaystyle g}\\n\\n that discriminates well between the different output values (see discriminative model). For the special case where \\n\\n\\n\\nf\\n(\\nx\\n,\\ny\\n)\\n=\\nP\\n(\\nx\\n,\\ny\\n)\\n\\n\\n{\\\\displaystyle f(x,y)=P(x,y)}\\n\\n is a joint probability distribution and the loss function is the negative log likelihood \\n\\n\\n\\n−\\n\\n∑\\n\\ni\\n\\n\\nlog\\n\\u2061\\nP\\n(\\n\\nx\\n\\ni\\n\\n\\n,\\n\\ny\\n\\ni\\n\\n\\n)\\n,\\n\\n\\n{\\\\displaystyle -\\\\sum _{i}\\\\log P(x_{i},y_{i}),}\\n\\n a risk minimization algorithm is said to perform generative training, because \\n\\n\\n\\nf\\n\\n\\n{\\\\displaystyle f}\\n\\n can be regarded as a generative model that explains how the data were generated. Generative training algorithms are often simpler and more computationally efficient than discriminative training algorithms. In some cases, the solution can be computed in closed form as in naive Bayes and linear discriminant analysis.'),\n",
       " Document(metadata={'source': 'https://en.wikipedia.org/wiki/Supervised_learning', 'title': 'Supervised learning - Wikipedia', 'language': 'en'}, page_content=\"Generalizations[edit]\\nTendency for a task to employ supervised vs. unsupervised methods. Task names straddling circle boundaries is intentional. It shows that the classical division of imaginative tasks (left) employing unsupervised methods is blurred in today's learning schemes.There are several ways in which the standard supervised learning problem can be generalized:\\nSemi-supervised learning or weak supervision: the desired output values are provided only for a subset of the training data. The remaining data is unlabeled or imprecisely labeled.\\nActive learning: Instead of assuming that all of the training examples are given at the start, active learning algorithms interactively collect new examples, typically by making queries to a human user. Often, the queries are based on unlabeled data, which is a scenario that combines semi-supervised learning with active learning.\"),\n",
       " Document(metadata={'source': 'https://en.wikipedia.org/wiki/Supervised_learning', 'title': 'Supervised learning - Wikipedia', 'language': 'en'}, page_content='Structured prediction: When the desired output value is a complex object, such as a parse tree or a labeled graph, then standard methods must be extended.\\nLearning to rank: When the input is a set of objects and the desired output is a ranking of those objects, then again the standard methods must be extended.\\nApproaches and algorithms[edit]\\nAnalytical learning\\nArtificial neural network\\nBackpropagation\\nBoosting (meta-algorithm)\\nBayesian statistics\\nCase-based reasoning\\nDecision tree learning\\nInductive logic programming\\nGaussian process regression\\nGenetic programming\\nGroup method of data handling\\nKernel estimators\\nLearning automata\\nLearning classifier systems\\nLearning vector quantization\\nMinimum message length (decision trees, decision graphs, etc.)\\nMultilinear subspace learning\\nNaive Bayes classifier\\nMaximum entropy classifier\\nConditional random field\\nNearest neighbor algorithm\\nProbably approximately correct learning (PAC) learning\\nRipple down rules, a knowledge acquisition methodology'),\n",
       " Document(metadata={'source': 'https://en.wikipedia.org/wiki/Supervised_learning', 'title': 'Supervised learning - Wikipedia', 'language': 'en'}, page_content='Maximum entropy classifier\\nConditional random field\\nNearest neighbor algorithm\\nProbably approximately correct learning (PAC) learning\\nRipple down rules, a knowledge acquisition methodology\\nSymbolic machine learning algorithms\\nSubsymbolic machine learning algorithms\\nSupport vector machines\\nMinimum complexity machines (MCM)\\nRandom forests\\nEnsembles of classifiers\\nOrdinal classification\\nData pre-processing\\nHandling imbalanced datasets\\nStatistical relational learning\\nProaftn, a multicriteria classification algorithm\\nApplications[edit]\\nBioinformatics\\nCheminformatics\\nQuantitative structure–activity relationship\\nDatabase marketing\\nHandwriting recognition\\nInformation retrieval\\nLearning to rank\\nInformation extraction\\nObject recognition in computer vision\\nOptical character recognition\\nSpam detection\\nPattern recognition\\nSpeech recognition\\nSupervised learning is a special case of downward causation in biological systems\\nLandform classification using satellite imagery[7]'),\n",
       " Document(metadata={'source': 'https://en.wikipedia.org/wiki/Supervised_learning', 'title': 'Supervised learning - Wikipedia', 'language': 'en'}, page_content='Spam detection\\nPattern recognition\\nSpeech recognition\\nSupervised learning is a special case of downward causation in biological systems\\nLandform classification using satellite imagery[7]\\nSpend classification in procurement processes[8]\\nGeneral issues[edit]\\nComputational learning theory\\nInductive bias\\nOverfitting\\n(Uncalibrated) class membership probabilities\\nVersion spaces\\nSee also[edit]\\nList of datasets for machine-learning research\\nUnsupervised learning\\nReferences[edit]'),\n",
       " Document(metadata={'source': 'https://en.wikipedia.org/wiki/Supervised_learning', 'title': 'Supervised learning - Wikipedia', 'language': 'en'}, page_content='^ Mehryar Mohri, Afshin Rostamizadeh, Ameet Talwalkar (2012) Foundations of Machine Learning, The MIT Press ISBN\\xa09780262018258.\\n\\n^ S. Geman, E. Bienenstock, and R. Doursat (1992). Neural networks and the bias/variance dilemma. Neural Computation 4, 1–58.\\n\\n^ G. James (2003) Variance and Bias for General Loss Functions, Machine Learning 51, 115–135. (http://www-bcf.usc.edu/~gareth/research/bv.pdf)\\n\\n^ C.E. Brodely and M.A. Friedl (1999). Identifying and Eliminating Mislabeled Training Instances, Journal of Artificial Intelligence Research 11, 131–167. (http://jair.org/media/606/live-606-1803-jair.pdf)\\n\\n^ M.R. Smith and T. Martinez (2011). \"Improving Classification Accuracy by Identifying and Removing Instances that Should Be Misclassified\". Proceedings of International Joint Conference on Neural Networks (IJCNN 2011). pp.\\xa02690–2697. CiteSeerX\\xa010.1.1.221.1371. doi:10.1109/IJCNN.2011.6033571.\\n\\n^ Vapnik, V. N. The Nature of Statistical Learning Theory (2nd Ed.), Springer Verlag, 2000.'),\n",
       " Document(metadata={'source': 'https://en.wikipedia.org/wiki/Supervised_learning', 'title': 'Supervised learning - Wikipedia', 'language': 'en'}, page_content='^ Vapnik, V. N. The Nature of Statistical Learning Theory (2nd Ed.), Springer Verlag, 2000.\\n\\n^ A. Maity (2016). \"Supervised Classification of RADARSAT-2 Polarimetric Data for Different Land Features\". arXiv:1608.00501 [cs.CV].\\n\\n^ \"Key Technologies for Agile Procurement | SIPMM Publications\". publication.sipmm.edu.sg. 2020-10-09. Retrieved 2022-06-16.\\n\\n\\nExternal links[edit]\\nMachine Learning Open Source Software (MLOSS)\\nvteDifferentiable computingGeneral\\nDifferentiable programming\\nInformation geometry\\nStatistical manifold\\nAutomatic differentiation\\nNeuromorphic computing\\nPattern recognition\\nRicci calculus\\nComputational learning theory\\nInductive bias\\nHardware\\nIPU\\nTPU\\nVPU\\nMemristor\\nSpiNNaker\\nSoftware libraries\\nTensorFlow\\nPyTorch\\nKeras\\nscikit-learn\\nTheano\\nJAX\\nFlux.jl\\nMindSpore\\n\\n Portals\\nComputer programming\\nTechnology\\n\\nAuthority control databases NationalUnited StatesIsraelOtherYale LUX'),\n",
       " Document(metadata={'source': 'https://en.wikipedia.org/wiki/Supervised_learning', 'title': 'Supervised learning - Wikipedia', 'language': 'en'}, page_content='Portals\\nComputer programming\\nTechnology\\n\\nAuthority control databases NationalUnited StatesIsraelOtherYale LUX\\n\\n\\n\\n\\nRetrieved from \"https://en.wikipedia.org/w/index.php?title=Supervised_learning&oldid=1308164940\"\\nCategory: Supervised learningHidden categories: Articles with short descriptionShort description is different from Wikidata\\n\\n\\n\\n\\n\\n\\n This page was last edited on 27 August 2025, at 21:43\\xa0(UTC).\\nText is available under the Creative Commons Attribution-ShareAlike 4.0 License;\\nadditional terms may apply. By using this site, you agree to the Terms of Use and Privacy Policy. Wikipedia® is a registered trademark of the Wikimedia Foundation, Inc., a non-profit organization.\\n\\n\\nPrivacy policy\\nAbout Wikipedia\\nDisclaimers\\nContact Wikipedia\\nCode of Conduct\\nDevelopers\\nStatistics\\nCookie statement\\nMobile view\\n\\n\\n\\n\\n\\n\\n\\n\\n\\n\\n\\n\\n\\n\\nSearch\\n\\n\\n\\n\\n\\n\\n\\n\\n\\n\\n\\n\\n\\nSearch\\n\\n\\n\\n\\n\\n\\n\\n\\n\\nToggle the table of contents\\n\\n\\n\\n\\n\\n\\n\\nSupervised learning\\n\\n\\n\\n\\n\\n\\n\\n\\n\\n\\n\\n\\n\\n\\n\\n\\n\\n\\n\\n\\n\\n\\n\\n\\n\\n\\n\\n\\n\\n\\n\\n38 languages\\n\\n\\nAdd topic')]"
      ]
     },
     "execution_count": 28,
     "metadata": {},
     "output_type": "execute_result"
    }
   ],
   "source": [
    "documents"
   ]
  },
  {
   "cell_type": "code",
   "execution_count": 29,
   "metadata": {},
   "outputs": [],
   "source": [
    "from langchain_google_genai import GoogleGenerativeAIEmbeddings\n",
    "embeddings = GoogleGenerativeAIEmbeddings(\n",
    "    model=\"models/embedding-001\",   # Gemini embedding model\n",
    "    google_api_key=os.getenv(\"GEMINI_API_KEY\")\n",
    ")"
   ]
  },
  {
   "cell_type": "code",
   "execution_count": 30,
   "metadata": {},
   "outputs": [],
   "source": [
    "from langchain_community.vectorstores import FAISS\n",
    "vectorstoredb=FAISS.from_documents(documents,embeddings)"
   ]
  },
  {
   "cell_type": "code",
   "execution_count": 31,
   "metadata": {},
   "outputs": [
    {
     "data": {
      "text/plain": [
       "<langchain_community.vectorstores.faiss.FAISS at 0x23c00373810>"
      ]
     },
     "execution_count": 31,
     "metadata": {},
     "output_type": "execute_result"
    }
   ],
   "source": [
    "vectorstoredb"
   ]
  },
  {
   "cell_type": "code",
   "execution_count": null,
   "metadata": {},
   "outputs": [
    {
     "data": {
      "text/plain": [
       "'Presence of interactions and non-linearities. If each of the features makes an independent contribution to the output, then algorithms based on linear functions (e.g., linear regression, logistic regression, support-vector machines, naive Bayes) and distance functions (e.g., nearest neighbor methods, support-vector machines with Gaussian kernels) generally perform well. However, if there are complex interactions among features, then algorithms such as decision trees and neural networks work better, because they are specifically designed to discover these interactions. Linear methods can also be applied, but the engineer must manually specify the interactions when using them.'"
      ]
     },
     "execution_count": 32,
     "metadata": {},
     "output_type": "execute_result"
    }
   ],
   "source": [
    "## Query From a vector db\n",
    "query=\"What is presence of non-linearity in supervised learning?\"\n",
    "result=vectorstoredb.similarity_search(query)\n",
    "result[0].page_content"
   ]
  },
  {
   "cell_type": "code",
   "execution_count": 34,
   "metadata": {},
   "outputs": [
    {
     "name": "stdout",
     "output_type": "stream",
     "text": [
      "model='models/gemini-1.5-flash' google_api_key=SecretStr('**********') temperature=0.0 client=<google.ai.generativelanguage_v1beta.services.generative_service.client.GenerativeServiceClient object at 0x0000023C003A8F90> default_metadata=()\n"
     ]
    }
   ],
   "source": [
    "from langchain_google_genai import ChatGoogleGenerativeAI\n",
    "llm = ChatGoogleGenerativeAI(\n",
    "    model=\"gemini-1.5-flash\",\n",
    "    temperature=0,\n",
    "    google_api_key=os.getenv(\"GEMINI_API_KEY\")  \n",
    ")\n",
    "\n",
    "print(llm)\n"
   ]
  },
  {
   "cell_type": "code",
   "execution_count": 35,
   "metadata": {},
   "outputs": [
    {
     "data": {
      "text/plain": [
       "RunnableBinding(bound=RunnableBinding(bound=RunnableAssign(mapper={\n",
       "  context: RunnableLambda(format_docs)\n",
       "}), kwargs={}, config={'run_name': 'format_inputs'}, config_factories=[])\n",
       "| ChatPromptTemplate(input_variables=['context'], input_types={}, partial_variables={}, messages=[HumanMessagePromptTemplate(prompt=PromptTemplate(input_variables=['context'], input_types={}, partial_variables={}, template='\\nAnswer the following question based only on the provided context:\\n<context>\\n{context}\\n</context>\\n\\n\\n'), additional_kwargs={})])\n",
       "| ChatGoogleGenerativeAI(model='models/gemini-1.5-flash', google_api_key=SecretStr('**********'), temperature=0.0, client=<google.ai.generativelanguage_v1beta.services.generative_service.client.GenerativeServiceClient object at 0x0000023C003A8F90>, default_metadata=())\n",
       "| StrOutputParser(), kwargs={}, config={'run_name': 'stuff_documents_chain'}, config_factories=[])"
      ]
     },
     "execution_count": 35,
     "metadata": {},
     "output_type": "execute_result"
    }
   ],
   "source": [
    "## Retrieval Chain, Document chain\n",
    "\n",
    "from langchain.chains.combine_documents import create_stuff_documents_chain\n",
    "from langchain_core.prompts import ChatPromptTemplate\n",
    "\n",
    "prompt=ChatPromptTemplate.from_template(\n",
    "    \"\"\"\n",
    "Answer the following question based only on the provided context:\n",
    "<context>\n",
    "{context}\n",
    "</context>\n",
    "\n",
    "\n",
    "\"\"\"\n",
    ")\n",
    "\n",
    "document_chain=create_stuff_documents_chain(llm,prompt)\n",
    "document_chain"
   ]
  },
  {
   "cell_type": "code",
   "execution_count": 39,
   "metadata": {},
   "outputs": [
    {
     "data": {
      "text/plain": [
       "'Based on the provided text, to solve a supervised learning problem, one must:\\n\\n1.  Determine the type of training samples.\\n2.  Gather a training set.\\n3.  Determine the input feature representation of the learned function.\\n4.  Determine the structure of the learned function and corresponding learning algorithm.\\n5.  Complete the design (run the learning algorithm and adjust parameters using a validation set or cross-validation).\\n6.  Evaluate the accuracy of the learned function on a separate test set.'"
      ]
     },
     "execution_count": 39,
     "metadata": {},
     "output_type": "execute_result"
    }
   ],
   "source": [
    "from langchain_core.documents import Document\n",
    "document_chain.invoke({\n",
    "    \"input\":\"What all steps to be followed to solve given problem of supervised learning\",\n",
    "    \"context\":[Document(page_content=\"\"\" To solve a given problem of supervised learning, the following steps must be performed:\n",
    "\n",
    "Determine the type of training samples. Before doing anything else, the user should decide what kind of data is to be used as a training set. In the case of handwriting analysis, for example, this might be a single handwritten character, an entire handwritten word, an entire sentence of handwriting, or a full paragraph of handwriting.\n",
    "Gather a training set. The training set needs to be representative of the real-world use of the function. Thus, a set of input objects is gathered together with corresponding outputs, either from human experts or from measurements.\n",
    "Determine the input feature representation of the learned function. The accuracy of the learned function depends strongly on how the input object is represented. Typically, the input object is transformed into a feature vector, which contains a number of features that are descriptive of the object. The number of features should not be too large, because of the curse of dimensionality; but should contain enough information to accurately predict the output.\n",
    "Determine the structure of the learned function and corresponding learning algorithm. For example, one may choose to use support-vector machines or decision trees.\n",
    "Complete the design. Run the learning algorithm on the gathered training set. Some supervised learning algorithms require the user to determine certain control parameters. These parameters may be adjusted by optimizing performance on a subset (called a validation set) of the training set, or via cross-validation.\n",
    "Evaluate the accuracy of the learned function. After parameter adjustment and learning, the performance of the resulting function should be measured on a test set that is separate from the training set. \"\"\"\n",
    ")]\n",
    "})"
   ]
  },
  {
   "cell_type": "markdown",
   "metadata": {},
   "source": [
    "However, we want the documents to first come from the retriever we just set up. That way, we can use the retriever to dynamically select the most relevant documents and pass those in for a given question."
   ]
  },
  {
   "cell_type": "code",
   "execution_count": 46,
   "metadata": {},
   "outputs": [
    {
     "data": {
      "text/plain": [
       "<langchain_community.vectorstores.faiss.FAISS at 0x23c00373810>"
      ]
     },
     "execution_count": 46,
     "metadata": {},
     "output_type": "execute_result"
    }
   ],
   "source": [
    "### Input--->Retriever--->vectorstoredb\n",
    "\n",
    "vectorstoredb"
   ]
  },
  {
   "cell_type": "code",
   "execution_count": null,
   "metadata": {},
   "outputs": [],
   "source": [
    "retriever=vectorstoredb.as_retriever()\n",
    "from langchain.chains import create_retrieval_chain\n",
    "retrieval_chain=create_retrieval_chain(retriever,document_chain)## here document chain gives the context information\n"
   ]
  },
  {
   "cell_type": "code",
   "execution_count": 48,
   "metadata": {},
   "outputs": [
    {
     "data": {
      "text/plain": [
       "RunnableBinding(bound=RunnableAssign(mapper={\n",
       "  context: RunnableBinding(bound=RunnableLambda(lambda x: x['input'])\n",
       "           | VectorStoreRetriever(tags=['FAISS', 'GoogleGenerativeAIEmbeddings'], vectorstore=<langchain_community.vectorstores.faiss.FAISS object at 0x0000023C00373810>, search_kwargs={}), kwargs={}, config={'run_name': 'retrieve_documents'}, config_factories=[])\n",
       "})\n",
       "| RunnableAssign(mapper={\n",
       "    answer: RunnableBinding(bound=RunnableBinding(bound=RunnableAssign(mapper={\n",
       "              context: RunnableLambda(format_docs)\n",
       "            }), kwargs={}, config={'run_name': 'format_inputs'}, config_factories=[])\n",
       "            | ChatPromptTemplate(input_variables=['context'], input_types={}, partial_variables={}, messages=[HumanMessagePromptTemplate(prompt=PromptTemplate(input_variables=['context'], input_types={}, partial_variables={}, template='\\nAnswer the following question based only on the provided context:\\n<context>\\n{context}\\n</context>\\n\\n\\n'), additional_kwargs={})])\n",
       "            | ChatGoogleGenerativeAI(model='models/gemini-1.5-flash', google_api_key=SecretStr('**********'), temperature=0.0, client=<google.ai.generativelanguage_v1beta.services.generative_service.client.GenerativeServiceClient object at 0x0000023C003A8F90>, default_metadata=())\n",
       "            | StrOutputParser(), kwargs={}, config={'run_name': 'stuff_documents_chain'}, config_factories=[])\n",
       "  }), kwargs={}, config={'run_name': 'retrieval_chain'}, config_factories=[])"
      ]
     },
     "execution_count": 48,
     "metadata": {},
     "output_type": "execute_result"
    }
   ],
   "source": [
    "retrieval_chain"
   ]
  },
  {
   "cell_type": "code",
   "execution_count": 49,
   "metadata": {},
   "outputs": [
    {
     "data": {
      "text/plain": [
       "'Based on the provided text, the steps to solve a supervised learning problem are:\\n\\n1. **Determine the input feature representation:** Transform the input object into a feature vector with an appropriate number of descriptive features.\\n2. **Determine the structure of the learned function and algorithm:** Choose an appropriate algorithm (e.g., support-vector machines or decision trees).\\n3. **Complete the design and run the algorithm:** Run the chosen algorithm on the training set, adjusting control parameters as needed using a validation set or cross-validation.\\n4. **Evaluate accuracy:** Measure the performance of the learned function on a separate test set.'"
      ]
     },
     "execution_count": 49,
     "metadata": {},
     "output_type": "execute_result"
    }
   ],
   "source": [
    "## Get the response form the LLM\n",
    "response=retrieval_chain.invoke({\"input\":\"What all steps to be followed to solve given problem of supervised learning\"})\n",
    "response['answer']"
   ]
  },
  {
   "cell_type": "code",
   "execution_count": 50,
   "metadata": {},
   "outputs": [
    {
     "data": {
      "text/plain": [
       "{'input': 'What all steps to be followed to solve given problem of supervised learning',\n",
       " 'context': [Document(id='8e8ce1fb-dd4e-4630-8dc9-25741d5b1051', metadata={'source': 'https://en.wikipedia.org/wiki/Supervised_learning', 'title': 'Supervised learning - Wikipedia', 'language': 'en'}, page_content='Steps to follow[edit]\\nTo solve a given problem of supervised learning, the following steps must be performed:'),\n",
       "  Document(id='4014043b-e4e6-4713-bc74-57e5befe15ae', metadata={'source': 'https://en.wikipedia.org/wiki/Supervised_learning', 'title': 'Supervised learning - Wikipedia', 'language': 'en'}, page_content='Evaluate the accuracy of the learned function. After parameter adjustment and learning, the performance of the resulting function should be measured on a test set that is separate from the training set.\\nAlgorithm choice[edit]\\nA wide range of supervised learning algorithms are available, each with its strengths and weaknesses. There is no single learning algorithm that works best on all supervised learning problems (see the No free lunch theorem).\\nThere are four major issues to consider in supervised learning:'),\n",
       "  Document(id='476a43b7-fe25-4893-b740-f0f724979462', metadata={'source': 'https://en.wikipedia.org/wiki/Supervised_learning', 'title': 'Supervised learning - Wikipedia', 'language': 'en'}, page_content='Determine the input feature representation of the learned function. The accuracy of the learned function depends strongly on how the input object is represented. Typically, the input object is transformed into a feature vector, which contains a number of features that are descriptive of the object. The number of features should not be too large, because of the curse of dimensionality; but should contain enough information to accurately predict the output.\\nDetermine the structure of the learned function and corresponding learning algorithm. For example, one may choose to use support-vector machines or decision trees.\\nComplete the design. Run the learning algorithm on the gathered training set. Some supervised learning algorithms require the user to determine certain control parameters. These parameters may be adjusted by optimizing performance on a subset (called a validation set) of the training set, or via cross-validation.'),\n",
       "  Document(id='a3cb0e69-25d3-4997-9d26-a0e6d565ec95', metadata={'source': 'https://en.wikipedia.org/wiki/Supervised_learning', 'title': 'Supervised learning - Wikipedia', 'language': 'en'}, page_content=\"Generalizations[edit]\\nTendency for a task to employ supervised vs. unsupervised methods. Task names straddling circle boundaries is intentional. It shows that the classical division of imaginative tasks (left) employing unsupervised methods is blurred in today's learning schemes.There are several ways in which the standard supervised learning problem can be generalized:\\nSemi-supervised learning or weak supervision: the desired output values are provided only for a subset of the training data. The remaining data is unlabeled or imprecisely labeled.\\nActive learning: Instead of assuming that all of the training examples are given at the start, active learning algorithms interactively collect new examples, typically by making queries to a human user. Often, the queries are based on unlabeled data, which is a scenario that combines semi-supervised learning with active learning.\")],\n",
       " 'answer': 'Based on the provided text, the steps to solve a supervised learning problem are:\\n\\n1. **Determine the input feature representation:** Transform the input object into a feature vector with an appropriate number of descriptive features.\\n2. **Determine the structure of the learned function and algorithm:** Choose an appropriate algorithm (e.g., support-vector machines or decision trees).\\n3. **Complete the design and run the algorithm:** Run the chosen algorithm on the training set, adjusting control parameters as needed using a validation set or cross-validation.\\n4. **Evaluate accuracy:** Measure the performance of the learned function on a separate test set.'}"
      ]
     },
     "execution_count": 50,
     "metadata": {},
     "output_type": "execute_result"
    }
   ],
   "source": [
    "\n",
    "response"
   ]
  },
  {
   "cell_type": "code",
   "execution_count": 51,
   "metadata": {},
   "outputs": [
    {
     "data": {
      "text/plain": [
       "[Document(id='8e8ce1fb-dd4e-4630-8dc9-25741d5b1051', metadata={'source': 'https://en.wikipedia.org/wiki/Supervised_learning', 'title': 'Supervised learning - Wikipedia', 'language': 'en'}, page_content='Steps to follow[edit]\\nTo solve a given problem of supervised learning, the following steps must be performed:'),\n",
       " Document(id='4014043b-e4e6-4713-bc74-57e5befe15ae', metadata={'source': 'https://en.wikipedia.org/wiki/Supervised_learning', 'title': 'Supervised learning - Wikipedia', 'language': 'en'}, page_content='Evaluate the accuracy of the learned function. After parameter adjustment and learning, the performance of the resulting function should be measured on a test set that is separate from the training set.\\nAlgorithm choice[edit]\\nA wide range of supervised learning algorithms are available, each with its strengths and weaknesses. There is no single learning algorithm that works best on all supervised learning problems (see the No free lunch theorem).\\nThere are four major issues to consider in supervised learning:'),\n",
       " Document(id='476a43b7-fe25-4893-b740-f0f724979462', metadata={'source': 'https://en.wikipedia.org/wiki/Supervised_learning', 'title': 'Supervised learning - Wikipedia', 'language': 'en'}, page_content='Determine the input feature representation of the learned function. The accuracy of the learned function depends strongly on how the input object is represented. Typically, the input object is transformed into a feature vector, which contains a number of features that are descriptive of the object. The number of features should not be too large, because of the curse of dimensionality; but should contain enough information to accurately predict the output.\\nDetermine the structure of the learned function and corresponding learning algorithm. For example, one may choose to use support-vector machines or decision trees.\\nComplete the design. Run the learning algorithm on the gathered training set. Some supervised learning algorithms require the user to determine certain control parameters. These parameters may be adjusted by optimizing performance on a subset (called a validation set) of the training set, or via cross-validation.'),\n",
       " Document(id='a3cb0e69-25d3-4997-9d26-a0e6d565ec95', metadata={'source': 'https://en.wikipedia.org/wiki/Supervised_learning', 'title': 'Supervised learning - Wikipedia', 'language': 'en'}, page_content=\"Generalizations[edit]\\nTendency for a task to employ supervised vs. unsupervised methods. Task names straddling circle boundaries is intentional. It shows that the classical division of imaginative tasks (left) employing unsupervised methods is blurred in today's learning schemes.There are several ways in which the standard supervised learning problem can be generalized:\\nSemi-supervised learning or weak supervision: the desired output values are provided only for a subset of the training data. The remaining data is unlabeled or imprecisely labeled.\\nActive learning: Instead of assuming that all of the training examples are given at the start, active learning algorithms interactively collect new examples, typically by making queries to a human user. Often, the queries are based on unlabeled data, which is a scenario that combines semi-supervised learning with active learning.\")]"
      ]
     },
     "execution_count": 51,
     "metadata": {},
     "output_type": "execute_result"
    }
   ],
   "source": [
    "response['context']"
   ]
  },
  {
   "cell_type": "code",
   "execution_count": null,
   "metadata": {},
   "outputs": [],
   "source": []
  }
 ],
 "metadata": {
  "kernelspec": {
   "display_name": "venv",
   "language": "python",
   "name": "python3"
  },
  "language_info": {
   "codemirror_mode": {
    "name": "ipython",
    "version": 3
   },
   "file_extension": ".py",
   "mimetype": "text/x-python",
   "name": "python",
   "nbconvert_exporter": "python",
   "pygments_lexer": "ipython3",
   "version": "3.11.0"
  }
 },
 "nbformat": 4,
 "nbformat_minor": 2
}
